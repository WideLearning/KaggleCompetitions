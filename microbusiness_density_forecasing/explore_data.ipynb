{
 "cells": [
  {
   "cell_type": "code",
   "execution_count": 1,
   "metadata": {},
   "outputs": [],
   "source": [
    "import pandas as pd\n",
    "import numpy as np\n",
    "import matplotlib.pyplot as plt\n",
    "import torch\n",
    "import seaborn as sns\n"
   ]
  },
  {
   "cell_type": "code",
   "execution_count": 2,
   "metadata": {},
   "outputs": [],
   "source": [
    "train = torch.load(\"X_train.p\")\n",
    "test = torch.load(\"X_test.p\")\n"
   ]
  },
  {
   "cell_type": "code",
   "execution_count": 3,
   "metadata": {},
   "outputs": [
    {
     "name": "stdout",
     "output_type": "stream",
     "text": [
      "torch.Size([3135, 41, 10]) torch.float32\n",
      "torch.Size([3135, 6, 10]) torch.float32\n"
     ]
    }
   ],
   "source": [
    "print(train.shape, train.dtype)\n",
    "print(test.shape, test.dtype)\n"
   ]
  },
  {
   "cell_type": "code",
   "execution_count": 104,
   "metadata": {},
   "outputs": [],
   "source": [
    "def whiten(A, pipeline=None):\n",
    "    from sklearn.decomposition import PCA\n",
    "    from sklearn.preprocessing import RobustScaler\n",
    "    from sklearn.pipeline import Pipeline\n",
    "\n",
    "    shape = A.shape\n",
    "    A = A.reshape(-1, A.shape[-1])\n",
    "\n",
    "    if not pipeline:\n",
    "        pipeline = Pipeline(\n",
    "            [\n",
    "                (\"scale\", RobustScaler()),\n",
    "                (\"pca\", PCA(n_components=min(A.shape[0], A.shape[1]))),\n",
    "            ]\n",
    "        ).fit(A)\n",
    "    return torch.tensor(pipeline.transform(A).reshape(shape)), pipeline\n"
   ]
  },
  {
   "cell_type": "code",
   "execution_count": 5,
   "metadata": {},
   "outputs": [],
   "source": [
    "def pp(A):\n",
    "    A = A.reshape(-1, A.size(-1))\n",
    "    print(\"ok\")\n",
    "    A = A[torch.randint(0, A.size(0), (100,)), :]\n",
    "    \n",
    "    print(A.shape)\n",
    "    sns.pairplot(pd.DataFrame(A), diag_kind='kde')\n"
   ]
  },
  {
   "cell_type": "code",
   "execution_count": 6,
   "metadata": {},
   "outputs": [],
   "source": [
    "# train = train.reshape(-1, train.size(-1))\n",
    "# test = test.reshape(-1, train.size(-1))\n",
    "# train[:, 1:], pipeline = whiten(train[:, 1:])\n",
    "# test[:, 1:], pipeline = whiten(test[:, 1:])"
   ]
  },
  {
   "cell_type": "code",
   "execution_count": 108,
   "metadata": {},
   "outputs": [
    {
     "data": {
      "text/plain": [
       "torch.Size([3135, 6, 10])"
      ]
     },
     "execution_count": 108,
     "metadata": {},
     "output_type": "execute_result"
    }
   ],
   "source": [
    "whiten(test)[0].shape"
   ]
  },
  {
   "cell_type": "code",
   "execution_count": 15,
   "metadata": {},
   "outputs": [],
   "source": [
    "from data import month_number, mmmyy_to_yyyymmdd"
   ]
  },
  {
   "cell_type": "code",
   "execution_count": 99,
   "metadata": {},
   "outputs": [],
   "source": [
    "from data import T_AVAILABLE, T_PREDICT, FEATURE_NAMES\n",
    "from tqdm import tqdm"
   ]
  },
  {
   "cell_type": "code",
   "execution_count": 100,
   "metadata": {},
   "outputs": [],
   "source": [
    "def build_big(other_features: dict, cfips: list):\n",
    "    arr = torch.load(\"big.p\")\n",
    "    print(len(cfips), \"cfips\")\n",
    "    for c in tqdm(cfips):\n",
    "        for i in range(arr.shape[1]):\n",
    "            for t in range(arr.shape[0]):\n",
    "                other_features[(c, f\"big_{i}\", t)] = arr[t, i]"
   ]
  },
  {
   "cell_type": "code",
   "execution_count": 101,
   "metadata": {},
   "outputs": [
    {
     "name": "stdout",
     "output_type": "stream",
     "text": [
      "3142 cfips\n"
     ]
    },
    {
     "name": "stderr",
     "output_type": "stream",
     "text": [
      "100%|██████████| 3142/3142 [00:23<00:00, 131.82it/s]\n"
     ]
    }
   ],
   "source": [
    "other_features = dict()\n",
    "census = pd.read_csv(\"census_starter.csv\").set_index(\"cfips\")\n",
    "arr = build_big(other_features, census.index)"
   ]
  },
  {
   "cell_type": "code",
   "execution_count": 86,
   "metadata": {},
   "outputs": [],
   "source": [
    "# torch.save(new_arr, \"big.p\")"
   ]
  },
  {
   "cell_type": "code",
   "execution_count": 87,
   "metadata": {},
   "outputs": [],
   "source": [
    "# arr = torch.load(\"big.p\")"
   ]
  },
  {
   "cell_type": "code",
   "execution_count": 81,
   "metadata": {},
   "outputs": [],
   "source": [
    "arr = arr[:, 1:35].clone()"
   ]
  },
  {
   "cell_type": "code",
   "execution_count": 82,
   "metadata": {},
   "outputs": [],
   "source": [
    "new_arr = arr.clone()\n",
    "new_arr[6:, :] = arr[:-6, :].clone()"
   ]
  },
  {
   "cell_type": "code",
   "execution_count": 88,
   "metadata": {},
   "outputs": [
    {
     "data": {
      "text/plain": [
       "<matplotlib.image.AxesImage at 0x7f112070abf0>"
      ]
     },
     "execution_count": 88,
     "metadata": {},
     "output_type": "execute_result"
    },
    {
     "data": {
      "image/png": "[encoded data removed]",
      "text/plain": [
       "<Figure size 640x480 with 1 Axes>"
      ]
     },
     "metadata": {},
     "output_type": "display_data"
    }
   ],
   "source": [
    "# pp(torch.tensor(arr[:, :5]))\n",
    "# arr[:, :35].std(dim=0)\n",
    "plt.imshow(arr)"
   ]
  }
 ],
 "metadata": {
  "kernelspec": {
   "display_name": "Python 3",
   "language": "python",
   "name": "python3"
  },
  "language_info": {
   "codemirror_mode": {
    "name": "ipython",
    "version": 3
   },
   "file_extension": ".py",
   "mimetype": "text/x-python",
   "name": "python",
   "nbconvert_exporter": "python",
   "pygments_lexer": "ipython3",
   "version": "3.10.6"
  },
  "orig_nbformat": 4
 },
 "nbformat": 4,
 "nbformat_minor": 2
}
